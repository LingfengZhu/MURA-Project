{
 "cells": [
  {
   "cell_type": "markdown",
   "metadata": {},
   "source": [
    "## MURA dataset pre-processing for Machine Learning\n",
    "This notebook does the following things:\n",
    "\n",
    "* 1. **Read** the images from the dataset.\n",
    "* 2. **Match** the data and the label.(Along with human part, patient number, study number, etc)\n",
    "* 3. **Transfer** the images into gray (RGB channels to 1 channel).\n",
    "* 4. **Reshape** the images to a standard size (here, $128\\times 128$) and then do the **standardization** and **edge detection** (sobel operation) and **histogram equalization**.\n",
    "* 5. The final image vector will be shaped as: $1\\times(128*128)$\n",
    "* 6. Perform **PCA**\n",
    "\n",
    "<h1 style=\"text-align:right\">$\\mathcal{ZLF}$ </h1>"
   ]
  },
  {
   "cell_type": "markdown",
   "metadata": {},
   "source": [
    "## 1. Read the images"
   ]
  },
  {
   "cell_type": "code",
   "execution_count": 1,
   "metadata": {},
   "outputs": [],
   "source": [
    "# import packages\n",
    "from __future__ import print_function\n",
    "import numpy as np\n",
    "import pandas as pd\n",
    "import matplotlib.pyplot as plt\n",
    "import matplotlib.image as mpimg\n",
    "import os\n",
    "import cv2\n",
    "from skimage.transform import resize\n",
    "from PIL import Image\n",
    "from skimage.filters import sobel\n",
    "from scipy import ndimage\n",
    "\n",
    "%matplotlib inline"
   ]
  },
  {
   "cell_type": "code",
   "execution_count": 2,
   "metadata": {},
   "outputs": [],
   "source": [
    "# get the data paths (and labels)\n",
    "train_img_path = pd.read_csv(\"train_image_paths.csv\", header=None)\n",
    "# train_img_label = pd.read_csv(\"train_labeled_studies.csv\", header=None)\n",
    "valid_img_path = pd.read_csv(\"valid_image_paths.csv\", header=None)\n",
    "# valid_img_label = pd.read_csv(\"valid_labeled_studies.csv\", header=None)"
   ]
  },
  {
   "cell_type": "code",
   "execution_count": 3,
   "metadata": {},
   "outputs": [
    {
     "data": {
      "text/html": [
       "<div>\n",
       "<style scoped>\n",
       "    .dataframe tbody tr th:only-of-type {\n",
       "        vertical-align: middle;\n",
       "    }\n",
       "\n",
       "    .dataframe tbody tr th {\n",
       "        vertical-align: top;\n",
       "    }\n",
       "\n",
       "    .dataframe thead th {\n",
       "        text-align: right;\n",
       "    }\n",
       "</style>\n",
       "<table border=\"1\" class=\"dataframe\">\n",
       "  <thead>\n",
       "    <tr style=\"text-align: right;\">\n",
       "      <th></th>\n",
       "      <th>0</th>\n",
       "    </tr>\n",
       "  </thead>\n",
       "  <tbody>\n",
       "    <tr>\n",
       "      <th>0</th>\n",
       "      <td>MURA-v1.1/train/XR_SHOULDER/patient00001/study...</td>\n",
       "    </tr>\n",
       "    <tr>\n",
       "      <th>1</th>\n",
       "      <td>MURA-v1.1/train/XR_SHOULDER/patient00001/study...</td>\n",
       "    </tr>\n",
       "    <tr>\n",
       "      <th>2</th>\n",
       "      <td>MURA-v1.1/train/XR_SHOULDER/patient00001/study...</td>\n",
       "    </tr>\n",
       "    <tr>\n",
       "      <th>3</th>\n",
       "      <td>MURA-v1.1/train/XR_SHOULDER/patient00002/study...</td>\n",
       "    </tr>\n",
       "    <tr>\n",
       "      <th>4</th>\n",
       "      <td>MURA-v1.1/train/XR_SHOULDER/patient00002/study...</td>\n",
       "    </tr>\n",
       "  </tbody>\n",
       "</table>\n",
       "</div>"
      ],
      "text/plain": [
       "                                                   0\n",
       "0  MURA-v1.1/train/XR_SHOULDER/patient00001/study...\n",
       "1  MURA-v1.1/train/XR_SHOULDER/patient00001/study...\n",
       "2  MURA-v1.1/train/XR_SHOULDER/patient00001/study...\n",
       "3  MURA-v1.1/train/XR_SHOULDER/patient00002/study...\n",
       "4  MURA-v1.1/train/XR_SHOULDER/patient00002/study..."
      ]
     },
     "execution_count": 3,
     "metadata": {},
     "output_type": "execute_result"
    }
   ],
   "source": [
    "# show the data\n",
    "train_img_path.head()"
   ]
  },
  {
   "cell_type": "markdown",
   "metadata": {},
   "source": [
    "## 2. Add labels to the data"
   ]
  },
  {
   "cell_type": "code",
   "execution_count": 4,
   "metadata": {},
   "outputs": [],
   "source": [
    "# add labels to the data sets\n",
    "redundant_prefix = 'MURA-v1.1/'    ##preparing labels\n",
    "len_prefix = len(redundant_prefix) # len_prefix = 10\n",
    "\n",
    "train_img_path['Path2Img'] = train_img_path[0].apply(lambda x: x[len_prefix:])\n",
    "valid_img_path['Path2Img'] = valid_img_path[0].apply(lambda x: x[len_prefix:])\n",
    "\n",
    "def extract_label(string, d):\n",
    "    \"\"\"\n",
    "    extract labels \"positive/negative\" from file path\n",
    "    \"\"\"\n",
    "    try:\n",
    "        pre_str = os.path.splitext(string)[0]\n",
    "        label = pre_str.split(\"/\")[-2].split(\"_\")[-1]\n",
    "        if np.isin(label, list(d.keys())):\n",
    "            return(d[label])\n",
    "        else:\n",
    "            return('No corresponding key value')\n",
    "    except IOError:\n",
    "        return(np.nan)\n",
    "\n",
    "d = {'positive':1, 'negative':0}\n",
    "\n",
    "train_img_path['label'] = train_img_path[0].apply(lambda x: extract_label(x, d=d))\n",
    "valid_img_path['label'] = valid_img_path[0].apply(lambda x: extract_label(x, d=d))"
   ]
  },
  {
   "cell_type": "code",
   "execution_count": 5,
   "metadata": {},
   "outputs": [
    {
     "data": {
      "text/html": [
       "<div>\n",
       "<style scoped>\n",
       "    .dataframe tbody tr th:only-of-type {\n",
       "        vertical-align: middle;\n",
       "    }\n",
       "\n",
       "    .dataframe tbody tr th {\n",
       "        vertical-align: top;\n",
       "    }\n",
       "\n",
       "    .dataframe thead th {\n",
       "        text-align: right;\n",
       "    }\n",
       "</style>\n",
       "<table border=\"1\" class=\"dataframe\">\n",
       "  <thead>\n",
       "    <tr style=\"text-align: right;\">\n",
       "      <th></th>\n",
       "      <th>0</th>\n",
       "      <th>Path2Img</th>\n",
       "      <th>label</th>\n",
       "    </tr>\n",
       "  </thead>\n",
       "  <tbody>\n",
       "    <tr>\n",
       "      <th>0</th>\n",
       "      <td>MURA-v1.1/train/XR_SHOULDER/patient00001/study...</td>\n",
       "      <td>train/XR_SHOULDER/patient00001/study1_positive...</td>\n",
       "      <td>1</td>\n",
       "    </tr>\n",
       "    <tr>\n",
       "      <th>1</th>\n",
       "      <td>MURA-v1.1/train/XR_SHOULDER/patient00001/study...</td>\n",
       "      <td>train/XR_SHOULDER/patient00001/study1_positive...</td>\n",
       "      <td>1</td>\n",
       "    </tr>\n",
       "    <tr>\n",
       "      <th>2</th>\n",
       "      <td>MURA-v1.1/train/XR_SHOULDER/patient00001/study...</td>\n",
       "      <td>train/XR_SHOULDER/patient00001/study1_positive...</td>\n",
       "      <td>1</td>\n",
       "    </tr>\n",
       "    <tr>\n",
       "      <th>3</th>\n",
       "      <td>MURA-v1.1/train/XR_SHOULDER/patient00002/study...</td>\n",
       "      <td>train/XR_SHOULDER/patient00002/study1_positive...</td>\n",
       "      <td>1</td>\n",
       "    </tr>\n",
       "    <tr>\n",
       "      <th>4</th>\n",
       "      <td>MURA-v1.1/train/XR_SHOULDER/patient00002/study...</td>\n",
       "      <td>train/XR_SHOULDER/patient00002/study1_positive...</td>\n",
       "      <td>1</td>\n",
       "    </tr>\n",
       "  </tbody>\n",
       "</table>\n",
       "</div>"
      ],
      "text/plain": [
       "                                                   0  \\\n",
       "0  MURA-v1.1/train/XR_SHOULDER/patient00001/study...   \n",
       "1  MURA-v1.1/train/XR_SHOULDER/patient00001/study...   \n",
       "2  MURA-v1.1/train/XR_SHOULDER/patient00001/study...   \n",
       "3  MURA-v1.1/train/XR_SHOULDER/patient00002/study...   \n",
       "4  MURA-v1.1/train/XR_SHOULDER/patient00002/study...   \n",
       "\n",
       "                                            Path2Img  label  \n",
       "0  train/XR_SHOULDER/patient00001/study1_positive...      1  \n",
       "1  train/XR_SHOULDER/patient00001/study1_positive...      1  \n",
       "2  train/XR_SHOULDER/patient00001/study1_positive...      1  \n",
       "3  train/XR_SHOULDER/patient00002/study1_positive...      1  \n",
       "4  train/XR_SHOULDER/patient00002/study1_positive...      1  "
      ]
     },
     "execution_count": 5,
     "metadata": {},
     "output_type": "execute_result"
    }
   ],
   "source": [
    "train_img_path.head()"
   ]
  },
  {
   "cell_type": "code",
   "execution_count": 6,
   "metadata": {},
   "outputs": [
    {
     "name": "stdout",
     "output_type": "stream",
     "text": [
      "<class 'pandas.core.frame.DataFrame'>\n",
      "RangeIndex: 36808 entries, 0 to 36807\n",
      "Data columns (total 3 columns):\n",
      "0           36808 non-null object\n",
      "Path2Img    36808 non-null object\n",
      "label       36808 non-null int64\n",
      "dtypes: int64(1), object(2)\n",
      "memory usage: 862.8+ KB\n"
     ]
    }
   ],
   "source": [
    "train_img_path.info()"
   ]
  },
  {
   "cell_type": "code",
   "execution_count": 7,
   "metadata": {},
   "outputs": [
    {
     "data": {
      "text/html": [
       "<div>\n",
       "<style scoped>\n",
       "    .dataframe tbody tr th:only-of-type {\n",
       "        vertical-align: middle;\n",
       "    }\n",
       "\n",
       "    .dataframe tbody tr th {\n",
       "        vertical-align: top;\n",
       "    }\n",
       "\n",
       "    .dataframe thead th {\n",
       "        text-align: right;\n",
       "    }\n",
       "</style>\n",
       "<table border=\"1\" class=\"dataframe\">\n",
       "  <thead>\n",
       "    <tr style=\"text-align: right;\">\n",
       "      <th></th>\n",
       "      <th>0</th>\n",
       "      <th>Path2Img</th>\n",
       "      <th>label</th>\n",
       "    </tr>\n",
       "  </thead>\n",
       "  <tbody>\n",
       "    <tr>\n",
       "      <th>0</th>\n",
       "      <td>MURA-v1.1/valid/XR_WRIST/patient11185/study1_p...</td>\n",
       "      <td>valid/XR_WRIST/patient11185/study1_positive/im...</td>\n",
       "      <td>1</td>\n",
       "    </tr>\n",
       "    <tr>\n",
       "      <th>1</th>\n",
       "      <td>MURA-v1.1/valid/XR_WRIST/patient11185/study1_p...</td>\n",
       "      <td>valid/XR_WRIST/patient11185/study1_positive/im...</td>\n",
       "      <td>1</td>\n",
       "    </tr>\n",
       "    <tr>\n",
       "      <th>2</th>\n",
       "      <td>MURA-v1.1/valid/XR_WRIST/patient11185/study1_p...</td>\n",
       "      <td>valid/XR_WRIST/patient11185/study1_positive/im...</td>\n",
       "      <td>1</td>\n",
       "    </tr>\n",
       "    <tr>\n",
       "      <th>3</th>\n",
       "      <td>MURA-v1.1/valid/XR_WRIST/patient11185/study1_p...</td>\n",
       "      <td>valid/XR_WRIST/patient11185/study1_positive/im...</td>\n",
       "      <td>1</td>\n",
       "    </tr>\n",
       "    <tr>\n",
       "      <th>4</th>\n",
       "      <td>MURA-v1.1/valid/XR_WRIST/patient11186/study1_p...</td>\n",
       "      <td>valid/XR_WRIST/patient11186/study1_positive/im...</td>\n",
       "      <td>1</td>\n",
       "    </tr>\n",
       "  </tbody>\n",
       "</table>\n",
       "</div>"
      ],
      "text/plain": [
       "                                                   0  \\\n",
       "0  MURA-v1.1/valid/XR_WRIST/patient11185/study1_p...   \n",
       "1  MURA-v1.1/valid/XR_WRIST/patient11185/study1_p...   \n",
       "2  MURA-v1.1/valid/XR_WRIST/patient11185/study1_p...   \n",
       "3  MURA-v1.1/valid/XR_WRIST/patient11185/study1_p...   \n",
       "4  MURA-v1.1/valid/XR_WRIST/patient11186/study1_p...   \n",
       "\n",
       "                                            Path2Img  label  \n",
       "0  valid/XR_WRIST/patient11185/study1_positive/im...      1  \n",
       "1  valid/XR_WRIST/patient11185/study1_positive/im...      1  \n",
       "2  valid/XR_WRIST/patient11185/study1_positive/im...      1  \n",
       "3  valid/XR_WRIST/patient11185/study1_positive/im...      1  \n",
       "4  valid/XR_WRIST/patient11186/study1_positive/im...      1  "
      ]
     },
     "execution_count": 7,
     "metadata": {},
     "output_type": "execute_result"
    }
   ],
   "source": [
    "valid_img_path.head()"
   ]
  },
  {
   "cell_type": "code",
   "execution_count": 8,
   "metadata": {},
   "outputs": [
    {
     "name": "stdout",
     "output_type": "stream",
     "text": [
      "<class 'pandas.core.frame.DataFrame'>\n",
      "RangeIndex: 3197 entries, 0 to 3196\n",
      "Data columns (total 3 columns):\n",
      "0           3197 non-null object\n",
      "Path2Img    3197 non-null object\n",
      "label       3197 non-null int64\n",
      "dtypes: int64(1), object(2)\n",
      "memory usage: 75.0+ KB\n"
     ]
    }
   ],
   "source": [
    "valid_img_path.info()"
   ]
  },
  {
   "cell_type": "markdown",
   "metadata": {},
   "source": [
    "## 3. Transfer to gray & Resize & Standardization & Edge detection & Histogram Equalization"
   ]
  },
  {
   "cell_type": "code",
   "execution_count": 9,
   "metadata": {},
   "outputs": [],
   "source": [
    "#From here, prepare images to 1-D arrays\n",
    "img_size = (128, 128) ##size of images, can be modified\n",
    "\n",
    "# transfer to gray: In fact, we just use cv2.imread(path, 0) function to get grayscale img instead of this function\n",
    "def identify_tranfer2gray(raw_image_tensor, ratio = [0.299, 0.587, 0.114]):##ratio can be modified, but be sure the sum is 1.!\n",
    "    \"\"\"\n",
    "    Identify images' color status, if it is gray-valued, no action, otherwise transform colorful images to gray-valued images.\n",
    "    ---------\n",
    "    Input: \n",
    "    param path: A tensor, from desired image\n",
    "    param ratio: A list, ratio of merging gray value image from a RGB image\n",
    "    ---------\n",
    "    Output: A matrix, of size height*width from raw image\n",
    "    \"\"\"\n",
    "    if len(raw_image_tensor.shape)==3: # if the input is 3 dimensional tensor\n",
    "        return(np.dot(raw_image_tensor[...,:3], ratio))\n",
    "    else:\n",
    "        return(raw_image_tensor)\n",
    "    \n",
    "# Resize and standardization and edge detection:\n",
    "def read_resize(path, rescale = img_size, sobel_op = False, hist = False, *args, **kwargs): \n",
    "    \"\"\"\n",
    "    Dealing gray-value images(i.e. no color)\n",
    "    Read images from file path, and rescale it according to provided image size\n",
    "    ---------\n",
    "    Input:\n",
    "    param path: A string, path to image\n",
    "    param rescale: A tuple, new size of image\n",
    "    sobel_op: If true, perform Sobel Operation\n",
    "    hist: If true, perform Histogram Equalization\n",
    "    ---------\n",
    "    Output: \n",
    "    row vector of size (1, new_height*new_width)\n",
    "    \"\"\"\n",
    "    raw_img_tensor = cv2.imread(path, 0) # load img as grayscale\n",
    "    \n",
    "    if hist:\n",
    "        img_tensor = cv2.equalizeHist(raw_img_tensor)\n",
    "    else:\n",
    "        img_tensor = raw_img_tensor\n",
    "        \n",
    "    if sobel_op:\n",
    "        img_tensor = sobel(img_tensor)\n",
    "    else:\n",
    "        img_tensor = img_tensor\n",
    "    \n",
    "    # Notice that \"resize\" function do the standardization(divided by 255) automatically\n",
    "    rescale_image_tensor = resize(img_tensor, output_shape=rescale, mode = 'constant') \n",
    "    try:\n",
    "        rescale_image_vector = np.reshape(rescale_image_tensor, newshape=(1, rescale[0]*rescale[1]))\n",
    "        return(np.squeeze(rescale_image_vector))\n",
    "    except IOError:\n",
    "        return(np.nan)"
   ]
  },
  {
   "cell_type": "code",
   "execution_count": 10,
   "metadata": {},
   "outputs": [
    {
     "data": {
      "text/html": [
       "<div>\n",
       "<style scoped>\n",
       "    .dataframe tbody tr th:only-of-type {\n",
       "        vertical-align: middle;\n",
       "    }\n",
       "\n",
       "    .dataframe tbody tr th {\n",
       "        vertical-align: top;\n",
       "    }\n",
       "\n",
       "    .dataframe thead th {\n",
       "        text-align: right;\n",
       "    }\n",
       "</style>\n",
       "<table border=\"1\" class=\"dataframe\">\n",
       "  <thead>\n",
       "    <tr style=\"text-align: right;\">\n",
       "      <th></th>\n",
       "      <th>0</th>\n",
       "      <th>Path2Img</th>\n",
       "      <th>label</th>\n",
       "      <th>img_vector</th>\n",
       "    </tr>\n",
       "  </thead>\n",
       "  <tbody>\n",
       "    <tr>\n",
       "      <th>0</th>\n",
       "      <td>MURA-v1.1/train/XR_SHOULDER/patient00001/study...</td>\n",
       "      <td>train/XR_SHOULDER/patient00001/study1_positive...</td>\n",
       "      <td>1</td>\n",
       "      <td>[0.029963235294117648, 0.02558210784313726, 0....</td>\n",
       "    </tr>\n",
       "    <tr>\n",
       "      <th>1</th>\n",
       "      <td>MURA-v1.1/train/XR_SHOULDER/patient00001/study...</td>\n",
       "      <td>train/XR_SHOULDER/patient00001/study1_positive...</td>\n",
       "      <td>1</td>\n",
       "      <td>[0.0, 0.0, 0.0, 0.0, 0.5783930759803888, 0.602...</td>\n",
       "    </tr>\n",
       "    <tr>\n",
       "      <th>2</th>\n",
       "      <td>MURA-v1.1/train/XR_SHOULDER/patient00001/study...</td>\n",
       "      <td>train/XR_SHOULDER/patient00001/study1_positive...</td>\n",
       "      <td>1</td>\n",
       "      <td>[0.2505514705882314, 0.23469669117647024, 0.22...</td>\n",
       "    </tr>\n",
       "    <tr>\n",
       "      <th>3</th>\n",
       "      <td>MURA-v1.1/train/XR_SHOULDER/patient00002/study...</td>\n",
       "      <td>train/XR_SHOULDER/patient00002/study1_positive...</td>\n",
       "      <td>1</td>\n",
       "      <td>[0.23529411764705882, 0.23048406862745144, 0.2...</td>\n",
       "    </tr>\n",
       "    <tr>\n",
       "      <th>4</th>\n",
       "      <td>MURA-v1.1/train/XR_SHOULDER/patient00002/study...</td>\n",
       "      <td>train/XR_SHOULDER/patient00002/study1_positive...</td>\n",
       "      <td>1</td>\n",
       "      <td>[0.0, 0.0, 0.0, 0.0, 0.0, 0.24705882352941438,...</td>\n",
       "    </tr>\n",
       "  </tbody>\n",
       "</table>\n",
       "</div>"
      ],
      "text/plain": [
       "                                                   0  \\\n",
       "0  MURA-v1.1/train/XR_SHOULDER/patient00001/study...   \n",
       "1  MURA-v1.1/train/XR_SHOULDER/patient00001/study...   \n",
       "2  MURA-v1.1/train/XR_SHOULDER/patient00001/study...   \n",
       "3  MURA-v1.1/train/XR_SHOULDER/patient00002/study...   \n",
       "4  MURA-v1.1/train/XR_SHOULDER/patient00002/study...   \n",
       "\n",
       "                                            Path2Img  label  \\\n",
       "0  train/XR_SHOULDER/patient00001/study1_positive...      1   \n",
       "1  train/XR_SHOULDER/patient00001/study1_positive...      1   \n",
       "2  train/XR_SHOULDER/patient00001/study1_positive...      1   \n",
       "3  train/XR_SHOULDER/patient00002/study1_positive...      1   \n",
       "4  train/XR_SHOULDER/patient00002/study1_positive...      1   \n",
       "\n",
       "                                          img_vector  \n",
       "0  [0.029963235294117648, 0.02558210784313726, 0....  \n",
       "1  [0.0, 0.0, 0.0, 0.0, 0.5783930759803888, 0.602...  \n",
       "2  [0.2505514705882314, 0.23469669117647024, 0.22...  \n",
       "3  [0.23529411764705882, 0.23048406862745144, 0.2...  \n",
       "4  [0.0, 0.0, 0.0, 0.0, 0.0, 0.24705882352941438,...  "
      ]
     },
     "execution_count": 10,
     "metadata": {},
     "output_type": "execute_result"
    }
   ],
   "source": [
    "train_img_path['img_vector'] = train_img_path['Path2Img'].apply(lambda x: read_resize(x)) #images have been normalized\n",
    "train_img_path.head()"
   ]
  },
  {
   "cell_type": "code",
   "execution_count": 11,
   "metadata": {},
   "outputs": [
    {
     "data": {
      "text/html": [
       "<div>\n",
       "<style scoped>\n",
       "    .dataframe tbody tr th:only-of-type {\n",
       "        vertical-align: middle;\n",
       "    }\n",
       "\n",
       "    .dataframe tbody tr th {\n",
       "        vertical-align: top;\n",
       "    }\n",
       "\n",
       "    .dataframe thead th {\n",
       "        text-align: right;\n",
       "    }\n",
       "</style>\n",
       "<table border=\"1\" class=\"dataframe\">\n",
       "  <thead>\n",
       "    <tr style=\"text-align: right;\">\n",
       "      <th></th>\n",
       "      <th>0</th>\n",
       "      <th>Path2Img</th>\n",
       "      <th>label</th>\n",
       "      <th>img_vector</th>\n",
       "    </tr>\n",
       "  </thead>\n",
       "  <tbody>\n",
       "    <tr>\n",
       "      <th>0</th>\n",
       "      <td>MURA-v1.1/valid/XR_WRIST/patient11185/study1_p...</td>\n",
       "      <td>valid/XR_WRIST/patient11185/study1_positive/im...</td>\n",
       "      <td>1</td>\n",
       "      <td>[0.0, 0.0, 0.0, 0.0, 0.0, 0.0, 0.0, 0.0, 0.0, ...</td>\n",
       "    </tr>\n",
       "    <tr>\n",
       "      <th>1</th>\n",
       "      <td>MURA-v1.1/valid/XR_WRIST/patient11185/study1_p...</td>\n",
       "      <td>valid/XR_WRIST/patient11185/study1_positive/im...</td>\n",
       "      <td>1</td>\n",
       "      <td>[0.0, 0.0, 0.0, 0.0, 0.0, 0.0, 0.0, 0.0, 0.0, ...</td>\n",
       "    </tr>\n",
       "    <tr>\n",
       "      <th>2</th>\n",
       "      <td>MURA-v1.1/valid/XR_WRIST/patient11185/study1_p...</td>\n",
       "      <td>valid/XR_WRIST/patient11185/study1_positive/im...</td>\n",
       "      <td>1</td>\n",
       "      <td>[0.0, 0.0, 0.0, 0.0, 0.0, 0.0, 0.0, 0.0, 0.0, ...</td>\n",
       "    </tr>\n",
       "    <tr>\n",
       "      <th>3</th>\n",
       "      <td>MURA-v1.1/valid/XR_WRIST/patient11185/study1_p...</td>\n",
       "      <td>valid/XR_WRIST/patient11185/study1_positive/im...</td>\n",
       "      <td>1</td>\n",
       "      <td>[0.9109451593137268, 0.3222886029411781, 0.235...</td>\n",
       "    </tr>\n",
       "    <tr>\n",
       "      <th>4</th>\n",
       "      <td>MURA-v1.1/valid/XR_WRIST/patient11186/study1_p...</td>\n",
       "      <td>valid/XR_WRIST/patient11186/study1_positive/im...</td>\n",
       "      <td>1</td>\n",
       "      <td>[0.0, 0.0, 0.0, 0.0, 0.0, 0.0, 0.0, 0.0, 0.0, ...</td>\n",
       "    </tr>\n",
       "  </tbody>\n",
       "</table>\n",
       "</div>"
      ],
      "text/plain": [
       "                                                   0  \\\n",
       "0  MURA-v1.1/valid/XR_WRIST/patient11185/study1_p...   \n",
       "1  MURA-v1.1/valid/XR_WRIST/patient11185/study1_p...   \n",
       "2  MURA-v1.1/valid/XR_WRIST/patient11185/study1_p...   \n",
       "3  MURA-v1.1/valid/XR_WRIST/patient11185/study1_p...   \n",
       "4  MURA-v1.1/valid/XR_WRIST/patient11186/study1_p...   \n",
       "\n",
       "                                            Path2Img  label  \\\n",
       "0  valid/XR_WRIST/patient11185/study1_positive/im...      1   \n",
       "1  valid/XR_WRIST/patient11185/study1_positive/im...      1   \n",
       "2  valid/XR_WRIST/patient11185/study1_positive/im...      1   \n",
       "3  valid/XR_WRIST/patient11185/study1_positive/im...      1   \n",
       "4  valid/XR_WRIST/patient11186/study1_positive/im...      1   \n",
       "\n",
       "                                          img_vector  \n",
       "0  [0.0, 0.0, 0.0, 0.0, 0.0, 0.0, 0.0, 0.0, 0.0, ...  \n",
       "1  [0.0, 0.0, 0.0, 0.0, 0.0, 0.0, 0.0, 0.0, 0.0, ...  \n",
       "2  [0.0, 0.0, 0.0, 0.0, 0.0, 0.0, 0.0, 0.0, 0.0, ...  \n",
       "3  [0.9109451593137268, 0.3222886029411781, 0.235...  \n",
       "4  [0.0, 0.0, 0.0, 0.0, 0.0, 0.0, 0.0, 0.0, 0.0, ...  "
      ]
     },
     "execution_count": 11,
     "metadata": {},
     "output_type": "execute_result"
    }
   ],
   "source": [
    "valid_img_path['img_vector'] = valid_img_path['Path2Img'].apply(lambda x: read_resize(x)) #images have been normalized\n",
    "valid_img_path.head()"
   ]
  },
  {
   "cell_type": "markdown",
   "metadata": {},
   "source": [
    "## 4. Other info"
   ]
  },
  {
   "cell_type": "code",
   "execution_count": 12,
   "metadata": {},
   "outputs": [],
   "source": [
    "###Prepare other labels that may be helpful\n",
    "train_img_path.drop(labels=0, axis=1,inplace=True) #drop redundant column\n",
    "valid_img_path.drop(labels=0, axis=1,inplace=True) #drop redundant column\n",
    "\n",
    "\n",
    "def human_part(path):\n",
    "    expected_output = path.split('/')[1].split(\"_\")[1]\n",
    "    return(expected_output)\n",
    "\n",
    "def patient_number(path):\n",
    "    expected_output = path.split('/')[2][-5:]\n",
    "    try:\n",
    "        expected_output = np.int(expected_output)\n",
    "        return(expected_output)\n",
    "    except IOError:\n",
    "        return(np.nan)\n",
    "\n",
    "def study_number(path):\n",
    "    expected_output = path.split('/')[3].split(\"_\")[0][-1]\n",
    "    try:\n",
    "        expected_output = np.int(expected_output)\n",
    "        return(expected_output)\n",
    "    except IOError:\n",
    "        return(np.nan)\n",
    "\n",
    "train_img_path['human_part'] = train_img_path['Path2Img'].apply(lambda x: human_part(x))\n",
    "train_img_path['patient_number'] = train_img_path['Path2Img'].apply(lambda x: patient_number(x))\n",
    "train_img_path['study_number'] = train_img_path['Path2Img'].apply(lambda x: study_number(x))\n",
    "\n",
    "valid_img_path['human_part'] = valid_img_path['Path2Img'].apply(lambda x: human_part(x))\n",
    "valid_img_path['patient_number'] = valid_img_path['Path2Img'].apply(lambda x: patient_number(x))\n",
    "valid_img_path['study_number'] = valid_img_path['Path2Img'].apply(lambda x: study_number(x))"
   ]
  },
  {
   "cell_type": "code",
   "execution_count": 13,
   "metadata": {},
   "outputs": [
    {
     "data": {
      "text/html": [
       "<div>\n",
       "<style scoped>\n",
       "    .dataframe tbody tr th:only-of-type {\n",
       "        vertical-align: middle;\n",
       "    }\n",
       "\n",
       "    .dataframe tbody tr th {\n",
       "        vertical-align: top;\n",
       "    }\n",
       "\n",
       "    .dataframe thead th {\n",
       "        text-align: right;\n",
       "    }\n",
       "</style>\n",
       "<table border=\"1\" class=\"dataframe\">\n",
       "  <thead>\n",
       "    <tr style=\"text-align: right;\">\n",
       "      <th></th>\n",
       "      <th>Path2Img</th>\n",
       "      <th>label</th>\n",
       "      <th>img_vector</th>\n",
       "      <th>human_part</th>\n",
       "      <th>patient_number</th>\n",
       "      <th>study_number</th>\n",
       "    </tr>\n",
       "  </thead>\n",
       "  <tbody>\n",
       "    <tr>\n",
       "      <th>0</th>\n",
       "      <td>train/XR_SHOULDER/patient00001/study1_positive...</td>\n",
       "      <td>1</td>\n",
       "      <td>[0.029963235294117648, 0.02558210784313726, 0....</td>\n",
       "      <td>SHOULDER</td>\n",
       "      <td>1</td>\n",
       "      <td>1</td>\n",
       "    </tr>\n",
       "    <tr>\n",
       "      <th>1</th>\n",
       "      <td>train/XR_SHOULDER/patient00001/study1_positive...</td>\n",
       "      <td>1</td>\n",
       "      <td>[0.0, 0.0, 0.0, 0.0, 0.5783930759803888, 0.602...</td>\n",
       "      <td>SHOULDER</td>\n",
       "      <td>1</td>\n",
       "      <td>1</td>\n",
       "    </tr>\n",
       "    <tr>\n",
       "      <th>2</th>\n",
       "      <td>train/XR_SHOULDER/patient00001/study1_positive...</td>\n",
       "      <td>1</td>\n",
       "      <td>[0.2505514705882314, 0.23469669117647024, 0.22...</td>\n",
       "      <td>SHOULDER</td>\n",
       "      <td>1</td>\n",
       "      <td>1</td>\n",
       "    </tr>\n",
       "    <tr>\n",
       "      <th>3</th>\n",
       "      <td>train/XR_SHOULDER/patient00002/study1_positive...</td>\n",
       "      <td>1</td>\n",
       "      <td>[0.23529411764705882, 0.23048406862745144, 0.2...</td>\n",
       "      <td>SHOULDER</td>\n",
       "      <td>2</td>\n",
       "      <td>1</td>\n",
       "    </tr>\n",
       "    <tr>\n",
       "      <th>4</th>\n",
       "      <td>train/XR_SHOULDER/patient00002/study1_positive...</td>\n",
       "      <td>1</td>\n",
       "      <td>[0.0, 0.0, 0.0, 0.0, 0.0, 0.24705882352941438,...</td>\n",
       "      <td>SHOULDER</td>\n",
       "      <td>2</td>\n",
       "      <td>1</td>\n",
       "    </tr>\n",
       "  </tbody>\n",
       "</table>\n",
       "</div>"
      ],
      "text/plain": [
       "                                            Path2Img  label  \\\n",
       "0  train/XR_SHOULDER/patient00001/study1_positive...      1   \n",
       "1  train/XR_SHOULDER/patient00001/study1_positive...      1   \n",
       "2  train/XR_SHOULDER/patient00001/study1_positive...      1   \n",
       "3  train/XR_SHOULDER/patient00002/study1_positive...      1   \n",
       "4  train/XR_SHOULDER/patient00002/study1_positive...      1   \n",
       "\n",
       "                                          img_vector human_part  \\\n",
       "0  [0.029963235294117648, 0.02558210784313726, 0....   SHOULDER   \n",
       "1  [0.0, 0.0, 0.0, 0.0, 0.5783930759803888, 0.602...   SHOULDER   \n",
       "2  [0.2505514705882314, 0.23469669117647024, 0.22...   SHOULDER   \n",
       "3  [0.23529411764705882, 0.23048406862745144, 0.2...   SHOULDER   \n",
       "4  [0.0, 0.0, 0.0, 0.0, 0.0, 0.24705882352941438,...   SHOULDER   \n",
       "\n",
       "   patient_number  study_number  \n",
       "0               1             1  \n",
       "1               1             1  \n",
       "2               1             1  \n",
       "3               2             1  \n",
       "4               2             1  "
      ]
     },
     "execution_count": 13,
     "metadata": {},
     "output_type": "execute_result"
    }
   ],
   "source": [
    "# show final data structure\n",
    "train_img_path.head()"
   ]
  },
  {
   "cell_type": "code",
   "execution_count": 14,
   "metadata": {},
   "outputs": [
    {
     "data": {
      "text/html": [
       "<div>\n",
       "<style scoped>\n",
       "    .dataframe tbody tr th:only-of-type {\n",
       "        vertical-align: middle;\n",
       "    }\n",
       "\n",
       "    .dataframe tbody tr th {\n",
       "        vertical-align: top;\n",
       "    }\n",
       "\n",
       "    .dataframe thead th {\n",
       "        text-align: right;\n",
       "    }\n",
       "</style>\n",
       "<table border=\"1\" class=\"dataframe\">\n",
       "  <thead>\n",
       "    <tr style=\"text-align: right;\">\n",
       "      <th></th>\n",
       "      <th>Path2Img</th>\n",
       "      <th>label</th>\n",
       "      <th>img_vector</th>\n",
       "      <th>human_part</th>\n",
       "      <th>patient_number</th>\n",
       "      <th>study_number</th>\n",
       "    </tr>\n",
       "  </thead>\n",
       "  <tbody>\n",
       "    <tr>\n",
       "      <th>3192</th>\n",
       "      <td>valid/XR_FINGER/patient11967/study1_negative/i...</td>\n",
       "      <td>0</td>\n",
       "      <td>[0.0, 0.0, 0.0, 0.0, 0.0, 0.0, 0.0, 0.0, 0.0, ...</td>\n",
       "      <td>FINGER</td>\n",
       "      <td>11967</td>\n",
       "      <td>1</td>\n",
       "    </tr>\n",
       "    <tr>\n",
       "      <th>3193</th>\n",
       "      <td>valid/XR_FINGER/patient11967/study1_negative/i...</td>\n",
       "      <td>0</td>\n",
       "      <td>[0.0, 0.0, 0.0, 0.0, 0.0, 0.0, 0.0, 0.0, 0.0, ...</td>\n",
       "      <td>FINGER</td>\n",
       "      <td>11967</td>\n",
       "      <td>1</td>\n",
       "    </tr>\n",
       "    <tr>\n",
       "      <th>3194</th>\n",
       "      <td>valid/XR_FINGER/patient11738/study1_negative/i...</td>\n",
       "      <td>0</td>\n",
       "      <td>[0.008180147058823084, 0.009803921568627447, 0...</td>\n",
       "      <td>FINGER</td>\n",
       "      <td>11738</td>\n",
       "      <td>1</td>\n",
       "    </tr>\n",
       "    <tr>\n",
       "      <th>3195</th>\n",
       "      <td>valid/XR_FINGER/patient11738/study1_negative/i...</td>\n",
       "      <td>0</td>\n",
       "      <td>[0.011764705882352941, 0.011764705882352941, 0...</td>\n",
       "      <td>FINGER</td>\n",
       "      <td>11738</td>\n",
       "      <td>1</td>\n",
       "    </tr>\n",
       "    <tr>\n",
       "      <th>3196</th>\n",
       "      <td>valid/XR_FINGER/patient11738/study1_negative/i...</td>\n",
       "      <td>0</td>\n",
       "      <td>[0.011764705882352941, 0.011764705882352941, 0...</td>\n",
       "      <td>FINGER</td>\n",
       "      <td>11738</td>\n",
       "      <td>1</td>\n",
       "    </tr>\n",
       "  </tbody>\n",
       "</table>\n",
       "</div>"
      ],
      "text/plain": [
       "                                               Path2Img  label  \\\n",
       "3192  valid/XR_FINGER/patient11967/study1_negative/i...      0   \n",
       "3193  valid/XR_FINGER/patient11967/study1_negative/i...      0   \n",
       "3194  valid/XR_FINGER/patient11738/study1_negative/i...      0   \n",
       "3195  valid/XR_FINGER/patient11738/study1_negative/i...      0   \n",
       "3196  valid/XR_FINGER/patient11738/study1_negative/i...      0   \n",
       "\n",
       "                                             img_vector human_part  \\\n",
       "3192  [0.0, 0.0, 0.0, 0.0, 0.0, 0.0, 0.0, 0.0, 0.0, ...     FINGER   \n",
       "3193  [0.0, 0.0, 0.0, 0.0, 0.0, 0.0, 0.0, 0.0, 0.0, ...     FINGER   \n",
       "3194  [0.008180147058823084, 0.009803921568627447, 0...     FINGER   \n",
       "3195  [0.011764705882352941, 0.011764705882352941, 0...     FINGER   \n",
       "3196  [0.011764705882352941, 0.011764705882352941, 0...     FINGER   \n",
       "\n",
       "      patient_number  study_number  \n",
       "3192           11967             1  \n",
       "3193           11967             1  \n",
       "3194           11738             1  \n",
       "3195           11738             1  \n",
       "3196           11738             1  "
      ]
     },
     "execution_count": 14,
     "metadata": {},
     "output_type": "execute_result"
    }
   ],
   "source": [
    "# show final data structure\n",
    "valid_img_path.tail()"
   ]
  },
  {
   "cell_type": "code",
   "execution_count": 15,
   "metadata": {
    "scrolled": true
   },
   "outputs": [
    {
     "data": {
      "image/png": "[encoded data removed]",
      "text/plain": [
       "<Figure size 432x288 with 1 Axes>"
      ]
     },
     "metadata": {},
     "output_type": "display_data"
    }
   ],
   "source": [
    "###Showing an image, paint it as you like(by modifying ratio!!!!)\n",
    "plt.imshow(train_img_path['img_vector'][77].reshape(img_size[0], img_size[1]));"
   ]
  },
  {
   "cell_type": "markdown",
   "metadata": {},
   "source": [
    "## 5. Obtain the whole dataset"
   ]
  },
  {
   "cell_type": "code",
   "execution_count": 16,
   "metadata": {},
   "outputs": [],
   "source": [
    "# concat the train and valid data\n",
    "data = pd.concat([train_img_path, valid_img_path], ignore_index=True)"
   ]
  },
  {
   "cell_type": "code",
   "execution_count": 17,
   "metadata": {},
   "outputs": [
    {
     "name": "stdout",
     "output_type": "stream",
     "text": [
      "<class 'pandas.core.frame.DataFrame'>\n",
      "RangeIndex: 40005 entries, 0 to 40004\n",
      "Data columns (total 6 columns):\n",
      "Path2Img          40005 non-null object\n",
      "label             40005 non-null int64\n",
      "img_vector        40005 non-null object\n",
      "human_part        40005 non-null object\n",
      "patient_number    40005 non-null int64\n",
      "study_number      40005 non-null int64\n",
      "dtypes: int64(3), object(3)\n",
      "memory usage: 1.8+ MB\n"
     ]
    }
   ],
   "source": [
    "data.info()"
   ]
  },
  {
   "cell_type": "code",
   "execution_count": 18,
   "metadata": {},
   "outputs": [],
   "source": [
    "# split the data\n",
    "elbow = data[data['human_part'] == 'ELBOW']\n",
    "finger = data[data['human_part'] == 'FINGER']\n",
    "forearm = data[data['human_part'] == 'FOREARM']\n",
    "hand = data[data['human_part'] == 'HAND']\n",
    "humerus = data[data['human_part'] == 'HUMERUS']\n",
    "shoulder = data[data['human_part'] == 'SHOULDER']\n",
    "wrist = data[data['human_part'] == 'WRIST']"
   ]
  },
  {
   "cell_type": "markdown",
   "metadata": {},
   "source": [
    "## 6.1 Split and PCA for specific dataset"
   ]
  },
  {
   "cell_type": "code",
   "execution_count": 19,
   "metadata": {},
   "outputs": [],
   "source": [
    "from sklearn.decomposition import PCA\n",
    "from sklearn.model_selection import train_test_split\n",
    "\n",
    "def my_split_PCA(data, img_size, num_of_components):\n",
    "    # obtain the data\n",
    "    quene = list()\n",
    "    for j in range(len(data)):\n",
    "        for i in data['img_vector'].values[j]:\n",
    "            quene.append(i)\n",
    "        \n",
    "    X = np.array(quene).reshape(len(data), img_size[0]*img_size[1])\n",
    "    y = data['label']\n",
    "    \n",
    "    # split the data\n",
    "    X_train, X_test, y_train, y_test = train_test_split(X,\n",
    "                                                    y,\n",
    "                                                    test_size = 0.1,\n",
    "                                                    random_state = 123,\n",
    "                                                    shuffle = True,\n",
    "                                                    stratify = y)\n",
    "    \n",
    "    # perform PCA on train set\n",
    "    pca = PCA(n_components=num_of_components)\n",
    "    \n",
    "    # train the PCA\n",
    "    pca_result_train = pca.fit_transform(X_train)\n",
    "    pca_feature_cols = ['pca' + str(i) for i in range(1,pca_result_train.shape[1]+1)]\n",
    "    pca_train_data = pd.DataFrame(pca_result_train, columns=pca_feature_cols)\n",
    "    pca_train_data['label'] = y_train.values\n",
    "    \n",
    "    # perform the same PCA on the test set\n",
    "    pca_result_test = pca.transform(X_test)\n",
    "    pca_test_data = pd.DataFrame(pca_result_test, columns=pca_feature_cols)\n",
    "    pca_test_data['label'] = y_test.values\n",
    "    \n",
    "    # print PCA exlained variance ratio\n",
    "    print('PCA exlained variance ratio:', pca.explained_variance_ratio_)\n",
    "    print('Total PCA exlained variance ratio:', np.sum(pca.explained_variance_ratio_))\n",
    "    \n",
    "    return pca_train_data, pca_test_data"
   ]
  },
  {
   "cell_type": "code",
   "execution_count": 20,
   "metadata": {},
   "outputs": [
    {
     "name": "stdout",
     "output_type": "stream",
     "text": [
      "PCA exlained variance ratio: [0.45390224 0.09827824 0.04605075 0.03915164 0.01966307 0.01491699\n",
      " 0.01327631 0.010901   0.00915857 0.00807193 0.00730252 0.0070888\n",
      " 0.00615086 0.00551449 0.00515707 0.00497019 0.00441562 0.00431964\n",
      " 0.00412953 0.0037978  0.00361363 0.00327437 0.00316137 0.0030845\n",
      " 0.00285027 0.00273822 0.0026296  0.00246935 0.0024552  0.00234124\n",
      " 0.00224894 0.00221325 0.0021344 ]\n",
      "Total PCA exlained variance ratio: 0.801431592757892\n",
      "PCA exlained variance ratio: [0.45920358 0.12627123 0.06358521 0.05107016 0.03688602 0.02248308\n",
      " 0.01923819 0.01511988 0.01271654]\n",
      "Total PCA exlained variance ratio: 0.8065738821311438\n",
      "PCA exlained variance ratio: [0.52021539 0.13279445 0.07711021 0.0397371  0.02521491 0.02107798]\n",
      "Total PCA exlained variance ratio: 0.8161500520134529\n",
      "PCA exlained variance ratio: [0.4620945  0.0839683  0.04641427 0.03738188 0.02680327 0.01988557\n",
      " 0.01530073 0.01203681 0.00966335 0.00849568 0.0080824  0.00729892\n",
      " 0.0068095  0.00639818 0.00526215 0.00506565 0.00486945 0.00453584\n",
      " 0.00410991 0.00390299 0.00382543 0.00353438 0.00336959 0.00328553\n",
      " 0.00323817 0.00303771 0.00289707]\n",
      "Total PCA exlained variance ratio: 0.8015672494740723\n"
     ]
    }
   ],
   "source": [
    "# perform PCA and save the data\n",
    "elbow_train, elbow_test = my_split_PCA(elbow, img_size = (128, 128), num_of_components = 0.8)\n",
    "elbow_train.to_csv('elbow_train.csv')\n",
    "elbow_test.to_csv('elbow_test.csv')\n",
    "finger_train, finger_test = my_split_PCA(finger, img_size = (128, 128), num_of_components = 0.8)\n",
    "finger_train.to_csv('finger_train.csv')\n",
    "finger_test.to_csv('finger_test.csv')\n",
    "forearm_train, forearm_test = my_split_PCA(forearm, img_size = (128, 128), num_of_components = 0.8)\n",
    "forearm_train.to_csv('forearm_train.csv')\n",
    "forearm_test.to_csv('forearm_test.csv')\n",
    "hand_train, hand_test = my_split_PCA(hand, img_size = (128, 128), num_of_components = 0.8)\n",
    "hand_train.to_csv('hand_train.csv')\n",
    "hand_test.to_csv('hand_test.csv')\n",
    "humerus_train, humerus_test = my_split_PCA(humerus, img_size = (128, 128), num_of_components = 0.8)\n",
    "humerus_train.to_csv('humerus_train.csv')\n",
    "humerus_test.to_csv('humerus_test.csv')\n",
    "shoulder_train, shoulder_test = my_split_PCA(shoulder, img_size = (128, 128), num_of_components = 0.8)\n",
    "shoulder_train.to_csv('shoulder_train.csv')\n",
    "shoulder_test.to_csv('shoulder_test.csv')\n",
    "wrist_train, wrist_test = my_split_PCA(wrist, img_size = (128, 128), num_of_components = 0.8)\n",
    "wrist_train.to_csv('wrist_train.csv')\n",
    "wrist_test.to_csv('wrist_test.csv')"
   ]
  },
  {
   "cell_type": "markdown",
   "metadata": {},
   "source": [
    "## 6.2 Split and PCA for the whole dataset"
   ]
  },
  {
   "cell_type": "code",
   "execution_count": 21,
   "metadata": {},
   "outputs": [],
   "source": [
    "# split the data into train and test\n",
    "from sklearn.model_selection import train_test_split\n",
    "def my_split(data, img_size, test_size):\n",
    "    # obtain the data\n",
    "    quene = list()\n",
    "    for j in range(len(data)):\n",
    "        for i in data['img_vector'].values[j]:\n",
    "            quene.append(i)\n",
    "        \n",
    "    X = np.array(quene).reshape(len(data), img_size[0]*img_size[1])\n",
    "    y = data['label']\n",
    "    \n",
    "    # split the data\n",
    "    X_train, X_test, y_train, y_test = train_test_split(X,\n",
    "                                                    y,\n",
    "                                                    test_size = test_size,\n",
    "                                                    random_state = 123,\n",
    "                                                    shuffle = True,\n",
    "                                                    stratify = y)\n",
    "    return X_train, X_test, y_train, y_test"
   ]
  },
  {
   "cell_type": "code",
   "execution_count": 22,
   "metadata": {},
   "outputs": [],
   "source": [
    "from sklearn.decomposition import PCA\n",
    "def my_PCA(X_train, X_test, y_train, y_test, num_of_components):\n",
    "    # perform PCA on train set\n",
    "    pca = PCA(n_components=num_of_components)\n",
    "    \n",
    "    # train the PCA\n",
    "    pca_result_train = pca.fit_transform(X_train)\n",
    "    pca_feature_cols = ['pca' + str(i) for i in range(1,pca_result_train.shape[1]+1)]\n",
    "    pca_train_data = pd.DataFrame(pca_result_train, columns=pca_feature_cols)\n",
    "    pca_train_data['label'] = y_train.values\n",
    "    \n",
    "    # perform the same PCA on the test set\n",
    "    pca_result_test = pca.transform(X_test)\n",
    "    pca_test_data = pd.DataFrame(pca_result_test, columns=pca_feature_cols)\n",
    "    pca_test_data['label'] = y_test.values\n",
    "    \n",
    "    # print PCA exlained variance ratio\n",
    "    print('PCA exlained variance ratio:', pca.explained_variance_ratio_)\n",
    "    print('Total PCA exlained variance ratio:', np.sum(pca.explained_variance_ratio_))\n",
    "    \n",
    "    return pca_train_data, pca_test_data"
   ]
  },
  {
   "cell_type": "code",
   "execution_count": 23,
   "metadata": {},
   "outputs": [],
   "source": [
    "# since the data is too big, we take the data apart\n",
    "data1 = data.iloc[0:10000,:]\n",
    "data2 = data.iloc[10000:20000,:]\n",
    "data3 = data.iloc[20000:30000,:]\n",
    "data4 = data.iloc[30000:40005,:]"
   ]
  },
  {
   "cell_type": "code",
   "execution_count": 24,
   "metadata": {},
   "outputs": [],
   "source": [
    "X_train1, X_test1, y_train1,y_test1 = my_split(data1, img_size=(128,128), test_size=0.1)"
   ]
  },
  {
   "cell_type": "code",
   "execution_count": 25,
   "metadata": {},
   "outputs": [],
   "source": [
    "X_train2, X_test2, y_train2,y_test2 = my_split(data2, img_size=(128,128), test_size=0.1)"
   ]
  },
  {
   "cell_type": "code",
   "execution_count": 26,
   "metadata": {},
   "outputs": [],
   "source": [
    "X_train3, X_test3, y_train3,y_test3 = my_split(data3, img_size=(128,128), test_size=0.1)"
   ]
  },
  {
   "cell_type": "code",
   "execution_count": 27,
   "metadata": {},
   "outputs": [],
   "source": [
    "X_train4, X_test4, y_train4,y_test4 = my_split(data4, img_size=(128,128), test_size=0.1)"
   ]
  },
  {
   "cell_type": "code",
   "execution_count": 28,
   "metadata": {},
   "outputs": [],
   "source": [
    "X_train = np.concatenate((X_train1, X_train2, X_train3, X_train4))"
   ]
  },
  {
   "cell_type": "code",
   "execution_count": 29,
   "metadata": {},
   "outputs": [],
   "source": [
    "X_test = np.concatenate((X_test1, X_test2, X_test3, X_test4))"
   ]
  },
  {
   "cell_type": "code",
   "execution_count": 30,
   "metadata": {},
   "outputs": [],
   "source": [
    "y_train = pd.concat((y_train1, y_train2, y_train3, y_train4))"
   ]
  },
  {
   "cell_type": "code",
   "execution_count": 31,
   "metadata": {},
   "outputs": [],
   "source": [
    "y_test = pd.concat((y_test1, y_test2, y_test3, y_test4))"
   ]
  },
  {
   "cell_type": "code",
   "execution_count": 32,
   "metadata": {},
   "outputs": [
    {
     "ename": "MemoryError",
     "evalue": "",
     "output_type": "error",
     "traceback": [
      "\u001b[1;31m---------------------------------------------------------------------------\u001b[0m",
      "\u001b[1;31mMemoryError\u001b[0m                               Traceback (most recent call last)",
      "\u001b[1;32m<ipython-input-32-fb2361f8ad3e>\u001b[0m in \u001b[0;36m<module>\u001b[1;34m()\u001b[0m\n\u001b[0;32m      1\u001b[0m \u001b[1;31m# perform PCA\u001b[0m\u001b[1;33m\u001b[0m\u001b[1;33m\u001b[0m\u001b[0m\n\u001b[1;32m----> 2\u001b[1;33m \u001b[0mwhole_train\u001b[0m\u001b[1;33m,\u001b[0m \u001b[0mwhole_test\u001b[0m \u001b[1;33m=\u001b[0m \u001b[0mmy_PCA\u001b[0m\u001b[1;33m(\u001b[0m\u001b[0mX_train\u001b[0m\u001b[1;33m,\u001b[0m \u001b[0mX_test\u001b[0m\u001b[1;33m,\u001b[0m \u001b[0my_train\u001b[0m\u001b[1;33m,\u001b[0m \u001b[0my_test\u001b[0m\u001b[1;33m,\u001b[0m \u001b[0mnum_of_components\u001b[0m\u001b[1;33m=\u001b[0m\u001b[1;36m0.8\u001b[0m\u001b[1;33m)\u001b[0m\u001b[1;33m\u001b[0m\u001b[0m\n\u001b[0m",
      "\u001b[1;32m<ipython-input-22-825669a34e89>\u001b[0m in \u001b[0;36mmy_PCA\u001b[1;34m(X_train, X_test, y_train, y_test, num_of_components)\u001b[0m\n\u001b[0;32m      5\u001b[0m \u001b[1;33m\u001b[0m\u001b[0m\n\u001b[0;32m      6\u001b[0m     \u001b[1;31m# train the PCA\u001b[0m\u001b[1;33m\u001b[0m\u001b[1;33m\u001b[0m\u001b[0m\n\u001b[1;32m----> 7\u001b[1;33m     \u001b[0mpca_result_train\u001b[0m \u001b[1;33m=\u001b[0m \u001b[0mpca\u001b[0m\u001b[1;33m.\u001b[0m\u001b[0mfit_transform\u001b[0m\u001b[1;33m(\u001b[0m\u001b[0mX_train\u001b[0m\u001b[1;33m)\u001b[0m\u001b[1;33m\u001b[0m\u001b[0m\n\u001b[0m\u001b[0;32m      8\u001b[0m     \u001b[0mpca_feature_cols\u001b[0m \u001b[1;33m=\u001b[0m \u001b[1;33m[\u001b[0m\u001b[1;34m'pca'\u001b[0m \u001b[1;33m+\u001b[0m \u001b[0mstr\u001b[0m\u001b[1;33m(\u001b[0m\u001b[0mi\u001b[0m\u001b[1;33m)\u001b[0m \u001b[1;32mfor\u001b[0m \u001b[0mi\u001b[0m \u001b[1;32min\u001b[0m \u001b[0mrange\u001b[0m\u001b[1;33m(\u001b[0m\u001b[1;36m1\u001b[0m\u001b[1;33m,\u001b[0m\u001b[0mpca_result_train\u001b[0m\u001b[1;33m.\u001b[0m\u001b[0mshape\u001b[0m\u001b[1;33m[\u001b[0m\u001b[1;36m1\u001b[0m\u001b[1;33m]\u001b[0m\u001b[1;33m+\u001b[0m\u001b[1;36m1\u001b[0m\u001b[1;33m)\u001b[0m\u001b[1;33m]\u001b[0m\u001b[1;33m\u001b[0m\u001b[0m\n\u001b[0;32m      9\u001b[0m     \u001b[0mpca_train_data\u001b[0m \u001b[1;33m=\u001b[0m \u001b[0mpd\u001b[0m\u001b[1;33m.\u001b[0m\u001b[0mDataFrame\u001b[0m\u001b[1;33m(\u001b[0m\u001b[0mpca_result_train\u001b[0m\u001b[1;33m,\u001b[0m \u001b[0mcolumns\u001b[0m\u001b[1;33m=\u001b[0m\u001b[0mpca_feature_cols\u001b[0m\u001b[1;33m)\u001b[0m\u001b[1;33m\u001b[0m\u001b[0m\n",
      "\u001b[1;32mC:\\Scripts\\Anaconda3\\lib\\site-packages\\sklearn\\decomposition\\pca.py\u001b[0m in \u001b[0;36mfit_transform\u001b[1;34m(self, X, y)\u001b[0m\n\u001b[0;32m    346\u001b[0m \u001b[1;33m\u001b[0m\u001b[0m\n\u001b[0;32m    347\u001b[0m         \"\"\"\n\u001b[1;32m--> 348\u001b[1;33m         \u001b[0mU\u001b[0m\u001b[1;33m,\u001b[0m \u001b[0mS\u001b[0m\u001b[1;33m,\u001b[0m \u001b[0mV\u001b[0m \u001b[1;33m=\u001b[0m \u001b[0mself\u001b[0m\u001b[1;33m.\u001b[0m\u001b[0m_fit\u001b[0m\u001b[1;33m(\u001b[0m\u001b[0mX\u001b[0m\u001b[1;33m)\u001b[0m\u001b[1;33m\u001b[0m\u001b[0m\n\u001b[0m\u001b[0;32m    349\u001b[0m         \u001b[0mU\u001b[0m \u001b[1;33m=\u001b[0m \u001b[0mU\u001b[0m\u001b[1;33m[\u001b[0m\u001b[1;33m:\u001b[0m\u001b[1;33m,\u001b[0m \u001b[1;33m:\u001b[0m\u001b[0mself\u001b[0m\u001b[1;33m.\u001b[0m\u001b[0mn_components_\u001b[0m\u001b[1;33m]\u001b[0m\u001b[1;33m\u001b[0m\u001b[0m\n\u001b[0;32m    350\u001b[0m \u001b[1;33m\u001b[0m\u001b[0m\n",
      "\u001b[1;32mC:\\Scripts\\Anaconda3\\lib\\site-packages\\sklearn\\decomposition\\pca.py\u001b[0m in \u001b[0;36m_fit\u001b[1;34m(self, X)\u001b[0m\n\u001b[0;32m    390\u001b[0m         \u001b[1;31m# Call different fits for either full or truncated SVD\u001b[0m\u001b[1;33m\u001b[0m\u001b[1;33m\u001b[0m\u001b[0m\n\u001b[0;32m    391\u001b[0m         \u001b[1;32mif\u001b[0m \u001b[0msvd_solver\u001b[0m \u001b[1;33m==\u001b[0m \u001b[1;34m'full'\u001b[0m\u001b[1;33m:\u001b[0m\u001b[1;33m\u001b[0m\u001b[0m\n\u001b[1;32m--> 392\u001b[1;33m             \u001b[1;32mreturn\u001b[0m \u001b[0mself\u001b[0m\u001b[1;33m.\u001b[0m\u001b[0m_fit_full\u001b[0m\u001b[1;33m(\u001b[0m\u001b[0mX\u001b[0m\u001b[1;33m,\u001b[0m \u001b[0mn_components\u001b[0m\u001b[1;33m)\u001b[0m\u001b[1;33m\u001b[0m\u001b[0m\n\u001b[0m\u001b[0;32m    393\u001b[0m         \u001b[1;32melif\u001b[0m \u001b[0msvd_solver\u001b[0m \u001b[1;32min\u001b[0m \u001b[1;33m[\u001b[0m\u001b[1;34m'arpack'\u001b[0m\u001b[1;33m,\u001b[0m \u001b[1;34m'randomized'\u001b[0m\u001b[1;33m]\u001b[0m\u001b[1;33m:\u001b[0m\u001b[1;33m\u001b[0m\u001b[0m\n\u001b[0;32m    394\u001b[0m             \u001b[1;32mreturn\u001b[0m \u001b[0mself\u001b[0m\u001b[1;33m.\u001b[0m\u001b[0m_fit_truncated\u001b[0m\u001b[1;33m(\u001b[0m\u001b[0mX\u001b[0m\u001b[1;33m,\u001b[0m \u001b[0mn_components\u001b[0m\u001b[1;33m,\u001b[0m \u001b[0msvd_solver\u001b[0m\u001b[1;33m)\u001b[0m\u001b[1;33m\u001b[0m\u001b[0m\n",
      "\u001b[1;32mC:\\Scripts\\Anaconda3\\lib\\site-packages\\sklearn\\decomposition\\pca.py\u001b[0m in \u001b[0;36m_fit_full\u001b[1;34m(self, X, n_components)\u001b[0m\n\u001b[0;32m    414\u001b[0m         \u001b[0mX\u001b[0m \u001b[1;33m-=\u001b[0m \u001b[0mself\u001b[0m\u001b[1;33m.\u001b[0m\u001b[0mmean_\u001b[0m\u001b[1;33m\u001b[0m\u001b[0m\n\u001b[0;32m    415\u001b[0m \u001b[1;33m\u001b[0m\u001b[0m\n\u001b[1;32m--> 416\u001b[1;33m         \u001b[0mU\u001b[0m\u001b[1;33m,\u001b[0m \u001b[0mS\u001b[0m\u001b[1;33m,\u001b[0m \u001b[0mV\u001b[0m \u001b[1;33m=\u001b[0m \u001b[0mlinalg\u001b[0m\u001b[1;33m.\u001b[0m\u001b[0msvd\u001b[0m\u001b[1;33m(\u001b[0m\u001b[0mX\u001b[0m\u001b[1;33m,\u001b[0m \u001b[0mfull_matrices\u001b[0m\u001b[1;33m=\u001b[0m\u001b[1;32mFalse\u001b[0m\u001b[1;33m)\u001b[0m\u001b[1;33m\u001b[0m\u001b[0m\n\u001b[0m\u001b[0;32m    417\u001b[0m         \u001b[1;31m# flip eigenvectors' sign to enforce deterministic output\u001b[0m\u001b[1;33m\u001b[0m\u001b[1;33m\u001b[0m\u001b[0m\n\u001b[0;32m    418\u001b[0m         \u001b[0mU\u001b[0m\u001b[1;33m,\u001b[0m \u001b[0mV\u001b[0m \u001b[1;33m=\u001b[0m \u001b[0msvd_flip\u001b[0m\u001b[1;33m(\u001b[0m\u001b[0mU\u001b[0m\u001b[1;33m,\u001b[0m \u001b[0mV\u001b[0m\u001b[1;33m)\u001b[0m\u001b[1;33m\u001b[0m\u001b[0m\n",
      "\u001b[1;32mC:\\Scripts\\Anaconda3\\lib\\site-packages\\scipy\\linalg\\decomp_svd.py\u001b[0m in \u001b[0;36msvd\u001b[1;34m(a, full_matrices, compute_uv, overwrite_a, check_finite, lapack_driver)\u001b[0m\n\u001b[0;32m    127\u001b[0m     \u001b[1;31m# perform decomposition\u001b[0m\u001b[1;33m\u001b[0m\u001b[1;33m\u001b[0m\u001b[0m\n\u001b[0;32m    128\u001b[0m     u, s, v, info = gesXd(a1, compute_uv=compute_uv, lwork=lwork,\n\u001b[1;32m--> 129\u001b[1;33m                           full_matrices=full_matrices, overwrite_a=overwrite_a)\n\u001b[0m\u001b[0;32m    130\u001b[0m \u001b[1;33m\u001b[0m\u001b[0m\n\u001b[0;32m    131\u001b[0m     \u001b[1;32mif\u001b[0m \u001b[0minfo\u001b[0m \u001b[1;33m>\u001b[0m \u001b[1;36m0\u001b[0m\u001b[1;33m:\u001b[0m\u001b[1;33m\u001b[0m\u001b[0m\n",
      "\u001b[1;31mMemoryError\u001b[0m: "
     ]
    }
   ],
   "source": [
    "# perform PCA\n",
    "whole_train, whole_test = my_PCA(X_train, X_test, y_train, y_test, num_of_components=0.8)"
   ]
  },
  {
   "cell_type": "code",
   "execution_count": null,
   "metadata": {},
   "outputs": [],
   "source": [
    "# save the data\n",
    "whole_train.to_csv('whole_train.csv')\n",
    "whole_test.to_csv('whole_test.csv')"
   ]
  },
  {
   "cell_type": "markdown",
   "metadata": {},
   "source": [
    "## <center>$\\mathcal{FIN}$</center>"
   ]
  }
 ],
 "metadata": {
  "kernelspec": {
   "display_name": "Python 3",
   "language": "python",
   "name": "python3"
  },
  "language_info": {
   "codemirror_mode": {
    "name": "ipython",
    "version": 3
   },
   "file_extension": ".py",
   "mimetype": "text/x-python",
   "name": "python",
   "nbconvert_exporter": "python",
   "pygments_lexer": "ipython3",
   "version": "3.6.5"
  }
 },
 "nbformat": 4,
 "nbformat_minor": 2
}
